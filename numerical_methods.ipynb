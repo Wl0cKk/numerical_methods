{
 "cells": [
  {
   "cell_type": "markdown",
   "id": "4aea7454-bdf3-455c-9cfd-6aa390da4d09",
   "metadata": {},
   "source": [
    "# Вопрос 1\n",
    "### Указать порядок абсолютной погрешности числа:"
   ]
  },
  {
   "cell_type": "code",
   "execution_count": null,
   "id": "93e72bec-1cd2-41a1-9a45-a83090528f36",
   "metadata": {},
   "outputs": [],
   "source": [
    "def solve(str_num)\n",
    "  decimal = /(?:\\.\\d*?)(\\d+)/\n",
    "  - decimal.match(str_num.tr(',', '.')).captures.first.length\n",
    "end\n",
    "\n",
    "x1 = '555.07888'    # ЗАМЕНИТЬ НА СВОЕ   \n",
    "x2 = '10.0700000'   # ЗАМЕНИТЬ НА СВОЕ\n",
    "\n",
    "puts \"Ответ: #{solve(x1)} ; #{solve(x2)}\""
   ]
  },
  {
   "cell_type": "markdown",
   "id": "372908a1-93b0-4bcc-96c0-acd4a31ae29f",
   "metadata": {},
   "source": [
    "# Вопрос 2\n",
    "### Числа X<sub>1</sub> и X<sub>2</sub> содержат N верных цифр в широков смысле. Определить их абсолютную погрешность\n"
   ]
  },
  {
   "cell_type": "code",
   "execution_count": null,
   "id": "a9029c8b-543b-484e-9fb1-73f3ea0ddc96",
   "metadata": {},
   "outputs": [],
   "source": [
    "def solve(str_num, n)\n",
    "  parts = str_num.tr('.', ',').split(',')\n",
    "  if parts.length == 2\n",
    "    parts[0].length < n ? '0,' + '0' * (n - parts[0].length - 1) + '1' : '0,1'\n",
    "  else\n",
    "    '0,' + '0' * (n - 2) + '1'\n",
    "  end\n",
    "end\n",
    "\n",
    "x1 = '2.99285673'       # ЗАМЕНИТЬ НА СВОЕ\n",
    "x2 = '48628.27453'      # ЗАМЕНИТЬ НА СВОЕ\n",
    "n = 7                   # N ЗАМЕНИТЬ НА СВОЕ (БЕЗ КАВЫЧЕК)\n",
    "\n",
    "puts \"Ответ: #{solve(x1, n)} ; #{solve(x2, n)}\""
   ]
  },
  {
   "cell_type": "markdown",
   "id": "e8843135-caca-4f81-a04d-34bf3f11c656",
   "metadata": {},
   "source": [
    "# Вопрос 3\n",
    "### Абсолютная погрешность чисел X<sub>1</sub> и X<sub>2</sub> составляет A. Округлить числа, оставив только верные цифры"
   ]
  },
  {
   "cell_type": "code",
   "execution_count": null,
   "id": "bbe986aa-aba3-4095-9f46-2af863305de9",
   "metadata": {},
   "outputs": [],
   "source": [
    "def solve(num_str, error_str)\n",
    "  num = num_str.tr(',', '.').to_f\n",
    "  error = error_str.tr(',', '.').to_f\n",
    "  multiplier = 1\n",
    "  while error * 10 < 1\n",
    "    multiplier *= 10\n",
    "    error *= 10\n",
    "  end\n",
    "  rounded_num = (num * multiplier).round / multiplier.to_f\n",
    "  if rounded_num % 1 == 0\n",
    "    rounded_num.to_i.to_s.tr('.', ',')\n",
    "  else\n",
    "    rounded_num.round(10).to_s.tr('.', ',')\n",
    "  end\n",
    "end\n",
    "\n",
    "x1 = '9.91565'    # ЗАМЕНИТЬ НА СВОЕ\n",
    "x2 = '694.75231'  # ЗАМЕНИТЬ НА СВОЕ\n",
    "a = '0.004'       # A ЗАМЕНИТЬ НА СВОЕ\n",
    "\n",
    "puts \"Ответ: #{solve(x1, a)} ; #{solve(x2, a)}\"\n"
   ]
  },
  {
   "cell_type": "markdown",
   "id": "96569976-1ac9-462d-8a5f-6ca1058344d2",
   "metadata": {},
   "source": [
    "# Вопрос 4\n",
    "### Найти мантиссу и порядок числа X"
   ]
  },
  {
   "cell_type": "code",
   "execution_count": null,
   "id": "6adedaf5-2b5b-46e7-a2cb-8ca1a6f8c06c",
   "metadata": {},
   "outputs": [],
   "source": [
    "def solve(str_num)\n",
    "  number = str_num.tr(',', '.').to_f\n",
    "  if number == 0\n",
    "    mantissa = 0\n",
    "    exponent = 0\n",
    "  else\n",
    "    exponent = Math.log10(number.abs).to_i\n",
    "    mantissa = number / 10.0 ** exponent\n",
    "  end\n",
    "  [mantissa, exponent]\n",
    "end\n",
    "\n",
    "number = '730' # ЗАМЕНИТЬ НА СВОЕ\n",
    "\n",
    "ans = solve(number)\n",
    "puts \"Ответ: #{ans[0].to_s.tr('.', ',')} ; #{ans[1]} (Не засчитывает как правильный ответ)\""
   ]
  },
  {
   "cell_type": "markdown",
   "id": "26455835-857f-408c-a313-4bf3dc7a043b",
   "metadata": {},
   "source": [
    "# Вопрос 5\n",
    "### Вычислить a=, где все цифры чисел верные. Через точку с запятой указать допускаемую абсолютную погрешность"
   ]
  },
  {
   "cell_type": "code",
   "execution_count": null,
   "id": "b5af4e62-e038-4d07-801b-078bfe71f1e2",
   "metadata": {},
   "outputs": [],
   "source": [
    "def derivative(x) = '0.' + '0' * ((x.split('.')[1].length)-1) + '1'\n",
    "def solve(expression)\n",
    "  expression = expression.gsub(\" \", \"\").gsub(\",\", \".\")\n",
    "  floats = expression.scan(/\\d+\\.\\d+/)\n",
    "  operations = expression.scan(/[+\\-]/)\n",
    "  derivative_floats = []\n",
    "  floats.each { |i| derivative_floats << derivative(i).to_f }\n",
    "  decimal_places = floats.map { |f| f.split('.').last.length }\n",
    "  less = decimal_places.min\n",
    "  rounded_floats = floats.map.with_index { |f, index| f.to_f.round(less+1).to_s }\n",
    "  res = rounded_floats.each_with_index.map { |num, index| index == 0 ? num : \"#{operations[index - 1]}#{num}\" }.join\n",
    "  result = eval(res).round(less)\n",
    "  [eval(res).round(less), derivative_floats.sum.round(decimal_places.max)]\n",
    "end\n",
    "\n",
    "\n",
    "expression = \"719.05926+5.046-0.00961\" # ЗАМЕНИТЬ НА СВОЕ\n",
    "\n",
    "ans, error = solve(expression)\n",
    "puts \"Ответ: #{ans.to_s.tr('.', ',')} ; #{error.to_s.tr('.', ',')}\" "
   ]
  },
  {
   "cell_type": "markdown",
   "id": "41885e78-37d0-4f9f-946a-d27db81a0fd8",
   "metadata": {},
   "source": [
    "# Вопрос 6\n",
    "### Найти порядки предельных относительных погрешностей чисел X<sub>1</sub> и X<sub>2</sub>, если все цифры верные"
   ]
  },
  {
   "cell_type": "code",
   "execution_count": null,
   "id": "0e3a498a-5e39-418b-9b80-6dd8728441a9",
   "metadata": {},
   "outputs": [],
   "source": [
    "def parse(x)\n",
    "  int_part, float_part = x.tr(',', '.').split('.')\n",
    "  int_part.sub!(/\\A0+/, '')\n",
    "  if !int_part.empty?\n",
    "    [int_part[0].to_i, int_part.size - 1, -float_part.length]\n",
    "  else\n",
    "    float_part.each_char.with_index do |d, i|\n",
    "      return [d.to_i, -1 - i, -float_part.length] if d != '0'\n",
    "    end\n",
    "    [0, -float_part.length, -float_part.length]\n",
    "  end\n",
    "end\n",
    "\n",
    "def solve(x)\n",
    "  dat = parse(x)\n",
    "  (dat[2] - dat[1])\n",
    "end\n",
    "\n",
    "x1 = '69.6740'   # ЗАМЕНИТЬ НА СВОЕ\n",
    "x2 = '0.001798'  # ЗАМЕНИТЬ НА СВОЕ\n",
    "\n",
    "puts \"Ответ: #{solve(x1)} ; #{solve(x2)}\""
   ]
  },
  {
   "cell_type": "markdown",
   "id": "82d66ae4-af2e-4f04-bca6-186e9e5709d7",
   "metadata": {},
   "source": [
    "# Вопрос 7\n",
    "### Используя правила, найти произведение приближенных чисел X<sub>1</sub> и X<sub>2</sub>, все цифры которых верные. В ответе указать полученное произведение и, через точку с запятой, порядок его предельной относительной погрешности"
   ]
  },
  {
   "cell_type": "code",
   "execution_count": null,
   "id": "10bf3a0b-e3d7-4b38-bfe0-cfdeb4385930",
   "metadata": {},
   "outputs": [],
   "source": [
    "def parse(x)\n",
    "  int_part, float_part = x.split('.')\n",
    "  int_part.sub!(/\\A0+/, '')\n",
    "  if !int_part.empty?\n",
    "    [int_part[0].to_i, int_part.size - 1, -float_part.length]\n",
    "  else\n",
    "    float_part.each_char.with_index { |d, i| return [d.to_i, -1 - i, -float_part.length] if d != '0' }\n",
    "    [0, -float_part.length, -float_part.length]\n",
    "  end\n",
    "end\n",
    "\n",
    "def solve(x1, x2)\n",
    "  x1, x2 = x1.tr(',', '.').to_f, x2.tr(',', '.').to_f\n",
    "  less = [x1.to_s.split('.').last.size, x2.to_s.split('.').last.size].min\n",
    "  x1 = x1.round(less + 1) if x1.to_s.split('.').last.size > less\n",
    "  x2 = x2.round(less + 1) if x2.to_s.split('.').last.size > less\n",
    "  res = format(\"%.#{less}f\", (x1 * x2).round(less))\n",
    "  order = parse(res)\n",
    "  [res.tr('.', ','), order[2] - order[1]]\n",
    "end\n",
    "\n",
    "x1 = '4.86' # ЗАМЕНИТЬ НА СВОЕ\n",
    "x2 = '0.84888' # ЗАМЕНИТЬ НА СВОЕ\n",
    "\n",
    "product, order = solve(x1, x2)\n",
    "puts \"Ответ: #{product} ; #{order}\""
   ]
  }
 ],
 "metadata": {
  "kernelspec": {
   "display_name": "Ruby 3 (iruby kernel)",
   "language": "ruby",
   "name": "ruby3"
  },
  "language_info": {
   "file_extension": ".rb",
   "mimetype": "application/x-ruby",
   "name": "ruby",
   "version": "3.2.2"
  }
 },
 "nbformat": 4,
 "nbformat_minor": 5
}
